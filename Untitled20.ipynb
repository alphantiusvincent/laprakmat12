{
  "nbformat": 4,
  "nbformat_minor": 0,
  "metadata": {
    "colab": {
      "provenance": []
    },
    "kernelspec": {
      "name": "python3",
      "display_name": "Python 3"
    },
    "language_info": {
      "name": "python"
    }
  },
  "cells": [
    {
      "cell_type": "code",
      "execution_count": null,
      "metadata": {
        "id": "TjyPMYqC4Lby"
      },
      "outputs": [],
      "source": [
        "bilangan_genap = {2, 4, 6, 8, 10, 12}\n",
        "bilangan_ganjil = {1, 3, 5, 7, 9, 11}\n",
        "print(bilangan_ganjil)\n",
        "print(bilangan_genap)"
      ]
    },
    {
      "cell_type": "code",
      "source": [
        "nama_dosen_tertampan = {'pak matahari', 'pak dida'}\n",
        "print(nama_dosen_tertampan)\n",
        "\n",
        "nama_dosen_tertampan = set(['pak matahari', 'pak dida'])\n",
        "print(nama_dosen_tertampan)\n"
      ],
      "metadata": {
        "id": "S-sChARAJh_K"
      },
      "execution_count": null,
      "outputs": []
    },
    {
      "cell_type": "code",
      "source": [
        "nim = {'71200120', '71200195','71200195', '71200214'}\n",
        "jumlah_nim = len(nim)\n",
        "print(jumlah_nim)\n",
        "for n in nim:\n",
        "    print(n)"
      ],
      "metadata": {
        "id": "2MbAcz78JiDK"
      },
      "execution_count": null,
      "outputs": []
    },
    {
      "cell_type": "code",
      "source": [
        "# definisikan sebuah set kosong\n",
        "plat_nomor = set()\n",
        "# tambahkan plat nomor 'AB 1890 XA'\n",
        "plat_nomor.add('AB 1890 XA')\n",
        "# tambahkan plat nomor 'AD 6810 MT'\n",
        "plat_nomor.add('AD 6810 MT')\n",
        "# jumlah anggota di dalam Set\n",
        "print(len(plat_nomor))\n",
        "# tambahkan plat yang sama sekali lagi\n",
        "plat_nomor.add('AB 1890 XA')\n",
        "# tampilkan semua plat nomor\n",
        "for plat in plat_nomor:\n",
        "    print(plat)\n"
      ],
      "metadata": {
        "id": "MZt7zqe5JiGa"
      },
      "execution_count": null,
      "outputs": []
    },
    {
      "cell_type": "code",
      "source": [
        "bilangan_prima = {13, 23, 7, 29, 11, 5}\n",
        "# hapus 5 dari set tersebut\n",
        "bilangan_prima.remove(5)\n",
        "print(bilangan_prima)\n",
        "# hapus 97 (tidak ada)\n",
        "bilangan_prima.discard(97)\n",
        "print(bilangan_prima)\n",
        "# ambil dan hapus salah satu\n",
        "bilangan = bilangan_prima.pop()\n",
        "print(bilangan)\n",
        "print(bilangan_prima)\n",
        "# kosongkan set\n",
        "bilangan_prima.clear()\n",
        "print(bilangan_prima)"
      ],
      "metadata": {
        "id": "TfqbD35tJiJO"
      },
      "execution_count": null,
      "outputs": []
    },
    {
      "cell_type": "code",
      "source": [
        "# Buat Set dari List\n",
        "ikan = set(['koi', 'koki', 'kembung', 'salmon'])\n",
        "print(ikan)\n",
        "# ganti koi menjadi teri\n",
        "ikan.remove('koi')\n",
        "ikan.add('teri')\n",
        "print(ikan)\n"
      ],
      "metadata": {
        "id": "NdMRIO7WJiNA"
      },
      "execution_count": null,
      "outputs": []
    },
    {
      "cell_type": "code",
      "source": [
        "merek_hp = {'Samsung', 'Apple', 'Xiaomi', 'Sony'}\n",
        "merek_ac = {'LG', 'Samsung', 'Panasonic', 'Daikin', 'Sony'}\n",
        "# union dari merek_hp dan merek_ac\n",
        "gabungan = merek_hp | merek_ac\n",
        "# bisa juga menggunakan gabungan = merek_hp.union(merek_ac)\n",
        "print(gabungan)"
      ],
      "metadata": {
        "id": "niCI6Gk9JiQY"
      },
      "execution_count": null,
      "outputs": []
    },
    {
      "cell_type": "code",
      "source": [
        "\n",
        "renang = {'siti', 'mail', 'ikhsan', 'upin', 'ipin'}\n",
        "tenis = {'joko', 'mail', 'ipin', 'upin', 'tejo'}\n",
        "# suka renang dan tenis\n",
        "renang_tenis = renang & tenis\n",
        "print(renang_tenis)"
      ],
      "metadata": {
        "id": "jcqkDMKdJiTv"
      },
      "execution_count": null,
      "outputs": []
    },
    {
      "cell_type": "code",
      "source": [
        "# bisa berbahasa english\n",
        "english = {'desi', 'tono', 'evan', 'miko', 'takashi', 'chaewon'}\n",
        "# bisa berbahasa korea\n",
        "korean = {'chaewon', 'yeona', 'erika', 'miko'}\n",
        "# siapa yang hanya bisa bahasa korea?\n",
        "only_korean = korean - english\n",
        "print(only_korean)\n",
        "# siapa yang hanya bisa bahasa english?\n",
        "only_english = english - korean\n",
        "print(only_english)\n"
      ],
      "metadata": {
        "id": "0g7fc8ffJiXq"
      },
      "execution_count": null,
      "outputs": []
    },
    {
      "cell_type": "code",
      "source": [
        "english = {'desi', 'tono', 'evan', 'miko', 'takashi', 'chaewon'}\n",
        "korean = {'chaewon', 'yeona', 'erika', 'miko'}\n",
        "# hanya bisa bicara satu bahasa saja\n",
        "one_language = english ^ korean\n",
        "print(one_language)"
      ],
      "metadata": {
        "id": "ocSQ3ScEA3rw"
      },
      "execution_count": null,
      "outputs": []
    },
    {
      "cell_type": "code",
      "source": [],
      "metadata": {
        "id": "X_Gbt75sA3wl"
      },
      "execution_count": null,
      "outputs": []
    },
    {
      "cell_type": "code",
      "source": [],
      "metadata": {
        "id": "6PoalVVfA318"
      },
      "execution_count": null,
      "outputs": []
    }
  ]
}